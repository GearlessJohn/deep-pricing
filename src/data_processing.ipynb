{
 "cells": [
  {
   "cell_type": "code",
   "execution_count": 1,
   "metadata": {},
   "outputs": [],
   "source": [
    "import os\n",
    "import numpy as np\n",
    "import pandas as ddpd\n",
    "import matplotlib.pyplot as plt\n",
    "from scipy.special import hyp2f1\n",
    "import pandas as pd"
   ]
  },
  {
   "cell_type": "code",
   "execution_count": 2,
   "metadata": {},
   "outputs": [
    {
     "name": "stdout",
     "output_type": "stream",
     "text": [
      "Index(['underlying_symbol', 'quote_date', 'root', 'expiration', 'strike',\n",
      "       'option_type', 'open', 'high', 'low', 'close', 'trade_volume',\n",
      "       'bid_size_1545', 'bid_1545', 'ask_size_1545', 'ask_1545',\n",
      "       'underlying_bid_1545', 'underlying_ask_1545',\n",
      "       'implied_underlying_price_1545', 'active_underlying_price_1545',\n",
      "       'implied_volatility_1545', 'delta_1545', 'gamma_1545', 'theta_1545',\n",
      "       'vega_1545', 'rho_1545', 'bid_size_eod', 'bid_eod', 'ask_size_eod',\n",
      "       'ask_eod', 'underlying_bid_eod', 'underlying_ask_eod', 'vwap',\n",
      "       'open_interest', 'delivery_code'],\n",
      "      dtype='object')\n"
     ]
    }
   ],
   "source": [
    "data = pd.read_csv('../data/UnderlyingOptionsEODCalcs_2022-09-02.csv')\n",
    "print(data.columns)"
   ]
  },
  {
   "cell_type": "code",
   "execution_count": null,
   "metadata": {},
   "outputs": [],
   "source": [
    "data[data]"
   ]
  },
  {
   "cell_type": "code",
   "execution_count": 14,
   "metadata": {},
   "outputs": [],
   "source": [
    "def black_scholes_call(S, K, T, r, sigma):\n",
    "    \"\"\"\n",
    "\n",
    "    :param S: Asset price\n",
    "    :param K: Strike price\n",
    "    :param T: Time to maturity\n",
    "    :param r: risk-free rate (treasury bills)\n",
    "    :param sigma: volatility\n",
    "    :return: call price\n",
    "    \"\"\"\n",
    "\n",
    "    # standard black-scholes formula\n",
    "    d1 = (np.log(S / K) + (r + sigma**2 / 2) * T) / (sigma * np.sqrt(T))\n",
    "    d2 = d1 - sigma * np.sqrt(T)\n",
    "\n",
    "    call = S * N(d1) - N(d2) * K * np.exp(-r * T)\n",
    "    return call\n",
    "\n",
    "def implied_volatility_call_newton(C, S, K, T, r, tol=0.0001, max_iterations=100):\n",
    "    \"\"\"\n",
    "\n",
    "    :param C: Observed call price\n",
    "    :param S: Asset price\n",
    "    :param K: Strike Price\n",
    "    :param T: Time to Maturity\n",
    "    :param r: riskfree rate\n",
    "    :param tol: error tolerance in result\n",
    "    :param max_iterations: max iterations to update vol\n",
    "    :return: implied volatility in percent\n",
    "    \"\"\"\n",
    "\n",
    "    # assigning initial volatility estimate for input in Newton_rap procedure\n",
    "    sigma = 0.3\n",
    "\n",
    "    for i in range(max_iterations):\n",
    "\n",
    "        # calculate difference between blackscholes price and market price with\n",
    "        # iteratively updated volality estimate\n",
    "        diff = black_scholes_call(S, K, T, r, sigma) - C\n",
    "\n",
    "        # break if difference is less than specified tolerance level\n",
    "        if abs(diff) < tol:\n",
    "            break\n",
    "\n",
    "        # use newton rapshon to update the estimate\n",
    "        sigma = sigma - diff / vega(S, K, T, r, sigma)\n",
    "\n",
    "    return sigma"
   ]
  },
  {
   "cell_type": "code",
   "execution_count": 15,
   "metadata": {},
   "outputs": [
    {
     "data": {
      "text/plain": [
       "Index(['underlying_symbol', 'quote_date', 'root', 'expiration', 'strike',\n",
       "       'option_type', 'open', 'high', 'low', 'close', 'trade_volume',\n",
       "       'bid_size_1545', 'bid_1545', 'ask_size_1545', 'ask_1545',\n",
       "       'underlying_bid_1545', 'underlying_ask_1545',\n",
       "       'implied_underlying_price_1545', 'active_underlying_price_1545',\n",
       "       'implied_volatility_1545', 'delta_1545', 'gamma_1545', 'theta_1545',\n",
       "       'vega_1545', 'rho_1545', 'bid_size_eod', 'bid_eod', 'ask_size_eod',\n",
       "       'ask_eod', 'underlying_bid_eod', 'underlying_ask_eod', 'vwap',\n",
       "       'open_interest', 'delivery_code'],\n",
       "      dtype='object')"
      ]
     },
     "execution_count": 15,
     "metadata": {},
     "output_type": "execute_result"
    }
   ],
   "source": [
    "data.columns"
   ]
  },
  {
   "cell_type": "code",
   "execution_count": null,
   "metadata": {},
   "outputs": [],
   "source": [
    "data['implied_volatility_bid_1545']=implied_volatility_call_newton(S0=100,)"
   ]
  },
  {
   "cell_type": "code",
   "execution_count": null,
   "metadata": {},
   "outputs": [],
   "source": []
  },
  {
   "cell_type": "code",
   "execution_count": null,
   "metadata": {},
   "outputs": [],
   "source": []
  },
  {
   "cell_type": "code",
   "execution_count": null,
   "metadata": {},
   "outputs": [],
   "source": []
  },
  {
   "cell_type": "code",
   "execution_count": null,
   "metadata": {},
   "outputs": [],
   "source": []
  },
  {
   "cell_type": "code",
   "execution_count": null,
   "metadata": {},
   "outputs": [],
   "source": []
  },
  {
   "cell_type": "code",
   "execution_count": null,
   "metadata": {},
   "outputs": [],
   "source": []
  },
  {
   "cell_type": "code",
   "execution_count": null,
   "metadata": {},
   "outputs": [],
   "source": []
  },
  {
   "cell_type": "code",
   "execution_count": null,
   "metadata": {},
   "outputs": [],
   "source": [
    "."
   ]
  },
  {
   "cell_type": "code",
   "execution_count": null,
   "metadata": {},
   "outputs": [],
   "source": []
  }
 ],
 "metadata": {
  "kernelspec": {
   "display_name": "Python 3.9.13 ('base')",
   "language": "python",
   "name": "python3"
  },
  "language_info": {
   "codemirror_mode": {
    "name": "ipython",
    "version": 3
   },
   "file_extension": ".py",
   "mimetype": "text/x-python",
   "name": "python",
   "nbconvert_exporter": "python",
   "pygments_lexer": "ipython3",
   "version": "3.9.13"
  },
  "orig_nbformat": 4,
  "vscode": {
   "interpreter": {
    "hash": "eb836b274fbd3616a7be81c7cd3a384a8f1395414b5f60b2221d794310eaa1c9"
   }
  }
 },
 "nbformat": 4,
 "nbformat_minor": 2
}
