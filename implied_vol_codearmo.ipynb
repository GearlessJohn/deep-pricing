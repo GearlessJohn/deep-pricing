{
 "cells": [
  {
   "cell_type": "markdown",
   "metadata": {},
   "source": [
    "# Code for option pricing and implied volatility\n",
    "Source: Code Armo (https://www.codearmo.com/blog/implied-volatility-european-call-python)"
   ]
  },
  {
   "cell_type": "code",
   "execution_count": 1,
   "metadata": {},
   "outputs": [],
   "source": [
    "# Imports\n",
    "import numpy as np\n",
    "from scipy.stats import norm\n",
    "\n",
    "# Gaussian distributions, as reference\n",
    "N_prime = norm.pdf\n",
    "N = norm.cdf\n",
    "\n",
    "\n",
    "def black_scholes_call(S, K, T, r, sigma):\n",
    "    '''\n",
    "\n",
    "    :param S: Asset price\n",
    "    :param K: Strike price\n",
    "    :param T: Time to maturity\n",
    "    :param r: risk-free rate (treasury bills)\n",
    "    :param sigma: volatility\n",
    "    :return: call price\n",
    "    '''\n",
    "\n",
    "    ###standard black-scholes formula\n",
    "    d1 = (np.log(S / K) + (r + sigma ** 2 / 2) * T) / (sigma * np.sqrt(T))\n",
    "    d2 = d1 - sigma * np.sqrt(T)\n",
    "\n",
    "    call = S * N(d1) -  N(d2)* K * np.exp(-r * T)\n",
    "    return call\n",
    "\n",
    "def vega(S, K, T, r, sigma):\n",
    "    '''\n",
    "\n",
    "    :param S: Asset price\n",
    "    :param K: Strike price\n",
    "    :param T: Time to Maturity\n",
    "    :param r: risk-free rate (treasury bills)\n",
    "    :param sigma: volatility\n",
    "    :return: partial derivative w.r.t volatility\n",
    "    '''\n",
    "\n",
    "    ### calculating d1 from black scholes\n",
    "    d1 = (np.log(S / K) + (r + sigma ** 2 / 2) * T) / sigma * np.sqrt(T)\n",
    "\n",
    "    #see hull derivatives chapter on greeks for reference\n",
    "    vega = S * N_prime(d1) * np.sqrt(T)\n",
    "    return vega\n",
    "\n",
    "\n",
    "\n",
    "def implied_volatility_call(C, S, K, T, r, tol=0.0001,\n",
    "                            max_iterations=100):\n",
    "    '''\n",
    "\n",
    "    :param C: Observed call price\n",
    "    :param S: Asset price\n",
    "    :param K: Strike Price\n",
    "    :param T: Time to Maturity\n",
    "    :param r: riskfree rate\n",
    "    :param tol: error tolerance in result\n",
    "    :param max_iterations: max iterations to update vol\n",
    "    :return: implied volatility in percent\n",
    "    '''\n",
    "\n",
    "\n",
    "    ### assigning initial volatility estimate for input in Newton_rap procedure\n",
    "    sigma = 0.3\n",
    "    \n",
    "    for i in range(max_iterations):\n",
    "\n",
    "        ### calculate difference between blackscholes price and market price with\n",
    "        ### iteratively updated volality estimate\n",
    "        diff = black_scholes_call(S, K, T, r, sigma) - C\n",
    "\n",
    "        ###break if difference is less than specified tolerance level\n",
    "        if abs(diff) < tol:\n",
    "            print(f'found on {i}th iteration')\n",
    "            print(f'difference is equal to {diff}')\n",
    "            break\n",
    "\n",
    "        ### use newton rapshon to update the estimate\n",
    "        sigma = sigma - diff / vega(S, K, T, r, sigma)\n",
    "\n",
    "    return sigma"
   ]
  },
  {
   "cell_type": "code",
   "execution_count": 3,
   "metadata": {},
   "outputs": [
    {
     "ename": "ModuleNotFoundError",
     "evalue": "No module named 'yahoofinance'",
     "output_type": "error",
     "traceback": [
      "\u001b[0;31m---------------------------------------------------------------------------\u001b[0m",
      "\u001b[0;31mModuleNotFoundError\u001b[0m                       Traceback (most recent call last)",
      "\u001b[1;32m/home/mateus/deep-pricing/implied_vol_codearmo.ipynb Cell 3\u001b[0m in \u001b[0;36m<cell line: 2>\u001b[0;34m()\u001b[0m\n\u001b[1;32m      <a href='vscode-notebook-cell://wsl%2Bubuntu-22.04/home/mateus/deep-pricing/implied_vol_codearmo.ipynb#W5sdnNjb2RlLXJlbW90ZQ%3D%3D?line=0'>1</a>\u001b[0m \u001b[39m# Testing those functions with some data\u001b[39;00m\n\u001b[0;32m----> <a href='vscode-notebook-cell://wsl%2Bubuntu-22.04/home/mateus/deep-pricing/implied_vol_codearmo.ipynb#W5sdnNjb2RlLXJlbW90ZQ%3D%3D?line=1'>2</a>\u001b[0m \u001b[39mimport\u001b[39;00m \u001b[39myahoofinance\u001b[39;00m\n",
      "\u001b[0;31mModuleNotFoundError\u001b[0m: No module named 'yahoofinance'"
     ]
    }
   ],
   "source": [
    "# Testing those functions with some data\n",
    "import yahoofinance"
   ]
  }
 ],
 "metadata": {
  "kernelspec": {
   "display_name": "Python 3.9.12 ('base')",
   "language": "python",
   "name": "python3"
  },
  "language_info": {
   "codemirror_mode": {
    "name": "ipython",
    "version": 3
   },
   "file_extension": ".py",
   "mimetype": "text/x-python",
   "name": "python",
   "nbconvert_exporter": "python",
   "pygments_lexer": "ipython3",
   "version": "3.9.12"
  },
  "orig_nbformat": 4,
  "vscode": {
   "interpreter": {
    "hash": "6d18f7ffe94d833a802e1e92f885f62e7089034dba63307a0ff62a007e26cd32"
   }
  }
 },
 "nbformat": 4,
 "nbformat_minor": 2
}
